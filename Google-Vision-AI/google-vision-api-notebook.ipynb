{
 "nbformat": 4,
 "nbformat_minor": 0,
 "metadata": {
  "colab": {
   "name": "Untitled0.ipynb",
   "provenance": []
  },
  "kernelspec": {
   "name": "python3",
   "language": "python",
   "display_name": "Python 3 (ipykernel)"
  }
 },
 "cells": [
  {
   "cell_type": "code",
   "metadata": {
    "id": "I86tgLoXN-fN",
    "colab_type": "code",
    "colab": {},
    "ExecuteTime": {
     "end_time": "2023-11-13T14:25:19.785012Z",
     "start_time": "2023-11-13T14:25:19.769256500Z"
    }
   },
   "source": [
    "import cv2\n",
    "import imutils\n",
    "import json\n",
    "import matplotlib.pyplot as plt\n",
    "import numpy as np\n",
    "import os\n",
    "import pandas as pd\n",
    "import requests\n",
    "import time\n",
    "import os\n",
    "from base64 import b64encode\n",
    "from IPython.display import Image\n",
    "from pylab import rcParams\n",
    "from dotenv import load_dotenv"
   ],
   "execution_count": 13,
   "outputs": [
    {
     "ename": "ImportError",
     "evalue": "cannot import name 'load_dotenv' from 'dotenv' (D:\\code\\uni-github\\GE-OCR-API\\venv\\Lib\\site-packages\\dotenv\\__init__.py)",
     "output_type": "error",
     "traceback": [
      "\u001B[1;31m---------------------------------------------------------------------------\u001B[0m",
      "\u001B[1;31mImportError\u001B[0m                               Traceback (most recent call last)",
      "Cell \u001B[1;32mIn[13], line 14\u001B[0m\n\u001B[0;32m     12\u001B[0m \u001B[38;5;28;01mfrom\u001B[39;00m \u001B[38;5;21;01mIPython\u001B[39;00m\u001B[38;5;21;01m.\u001B[39;00m\u001B[38;5;21;01mdisplay\u001B[39;00m \u001B[38;5;28;01mimport\u001B[39;00m Image\n\u001B[0;32m     13\u001B[0m \u001B[38;5;28;01mfrom\u001B[39;00m \u001B[38;5;21;01mpylab\u001B[39;00m \u001B[38;5;28;01mimport\u001B[39;00m rcParams\n\u001B[1;32m---> 14\u001B[0m \u001B[38;5;28;01mfrom\u001B[39;00m \u001B[38;5;21;01mdotenv\u001B[39;00m \u001B[38;5;28;01mimport\u001B[39;00m load_dotenv\n",
      "\u001B[1;31mImportError\u001B[0m: cannot import name 'load_dotenv' from 'dotenv' (D:\\code\\uni-github\\GE-OCR-API\\venv\\Lib\\site-packages\\dotenv\\__init__.py)"
     ]
    }
   ]
  },
  {
   "cell_type": "code",
   "metadata": {
    "id": "87ckNcIOiIjf",
    "colab_type": "code",
    "colab": {},
    "ExecuteTime": {
     "end_time": "2023-11-13T14:25:20.373931200Z",
     "start_time": "2023-11-13T14:25:20.360933500Z"
    }
   },
   "source": [
    "rcParams['figure.figsize'] = 10, 20"
   ],
   "execution_count": 14,
   "outputs": []
  },
  {
   "cell_type": "code",
   "metadata": {
    "id": "j1x8BO5AORgS",
    "colab_type": "code",
    "colab": {},
    "ExecuteTime": {
     "end_time": "2023-11-13T14:25:20.908529500Z",
     "start_time": "2023-11-13T14:25:20.881530600Z"
    }
   },
   "source": [
    "def makeImageData(imgpath):\n",
    "    img_req = None\n",
    "    with open(imgpath, 'rb') as f:\n",
    "        ctxt = b64encode(f.read()).decode()\n",
    "        img_req = {\n",
    "            'image': {\n",
    "                'content': ctxt\n",
    "            },\n",
    "            'features': [{\n",
    "                'type': 'DOCUMENT_TEXT_DETECTION',\n",
    "                'maxResults': 1\n",
    "            }]\n",
    "        }\n",
    "    return json.dumps({\"requests\": img_req}).encode()"
   ],
   "execution_count": 15,
   "outputs": []
  },
  {
   "cell_type": "code",
   "metadata": {
    "id": "5PH_sr9TN7eS",
    "colab_type": "code",
    "colab": {},
    "ExecuteTime": {
     "end_time": "2023-11-13T14:25:21.702250300Z",
     "start_time": "2023-11-13T14:25:21.686255200Z"
    }
   },
   "source": [
    "def requestOCR(url, api_key, imgpath):\n",
    "  imgdata = makeImageData(imgpath)\n",
    "  response = requests.post(ENDPOINT_URL, \n",
    "                           data = imgdata, \n",
    "                           params = {'key': api_key}, \n",
    "                           headers = {'Content-Type': 'application/json'})\n",
    "  return response"
   ],
   "execution_count": 16,
   "outputs": []
  },
  {
   "cell_type": "code",
   "metadata": {
    "id": "ia3SZkwhQi8t",
    "colab_type": "code",
    "colab": {},
    "ExecuteTime": {
     "end_time": "2023-11-13T14:25:22.553513300Z",
     "start_time": "2023-11-13T14:25:22.539380300Z"
    }
   },
   "source": [
    "load_dotenv()"
   ],
   "execution_count": 17,
   "outputs": [
    {
     "ename": "NameError",
     "evalue": "name 'load_dotenv' is not defined",
     "output_type": "error",
     "traceback": [
      "\u001B[1;31m---------------------------------------------------------------------------\u001B[0m",
      "\u001B[1;31mNameError\u001B[0m                                 Traceback (most recent call last)",
      "Cell \u001B[1;32mIn[17], line 1\u001B[0m\n\u001B[1;32m----> 1\u001B[0m \u001B[43mload_dotenv\u001B[49m()\n",
      "\u001B[1;31mNameError\u001B[0m: name 'load_dotenv' is not defined"
     ]
    }
   ]
  },
  {
   "cell_type": "code",
   "metadata": {
    "id": "ziTG4b1-N0oU",
    "colab_type": "code",
    "colab": {},
    "is_executing": true
   },
   "source": [
    "\n",
    "ENDPOINT_URL = 'https://vision.googleapis.com/v1/images:annotate'\n",
    "api_key = os.getenv(\"GOOGLE_VISION_API_KEY\")\n",
    "img_loc = \"Image.jpg\""
   ],
   "execution_count": null,
   "outputs": []
  },
  {
   "cell_type": "code",
   "metadata": {
    "id": "-RlRp1bllxbh",
    "colab_type": "code",
    "colab": {},
    "is_executing": true
   },
   "source": [
    "Image(img_loc)"
   ],
   "execution_count": null,
   "outputs": []
  },
  {
   "cell_type": "code",
   "metadata": {
    "id": "EU1SEPZWlhGt",
    "colab_type": "code",
    "colab": {},
    "is_executing": true
   },
   "source": [
    "result = requestOCR(ENDPOINT_URL, api_key, img_loc)"
   ],
   "execution_count": null,
   "outputs": []
  },
  {
   "cell_type": "code",
   "metadata": {
    "id": "mfZ_KT68OgV7",
    "colab_type": "code",
    "colab": {},
    "is_executing": true
   },
   "source": [
    "if result.status_code != 200 or result.json().get('error'):\n",
    "    print (\"Error\")\n",
    "else:\n",
    "    result = result.json()['responses'][0]['textAnnotations']"
   ],
   "execution_count": null,
   "outputs": []
  },
  {
   "cell_type": "code",
   "metadata": {
    "id": "KlGzGqOzROk3",
    "colab_type": "code",
    "colab": {},
    "is_executing": true
   },
   "source": [
    "result"
   ],
   "execution_count": null,
   "outputs": []
  },
  {
   "cell_type": "code",
   "metadata": {
    "id": "o5AYbd9YfwL-",
    "colab_type": "code",
    "colab": {},
    "is_executing": true
   },
   "source": [
    "for index in range(len(result)):\n",
    "  print(result[index][\"description\"])"
   ],
   "execution_count": null,
   "outputs": []
  },
  {
   "cell_type": "code",
   "metadata": {
    "id": "iIs5LgaAfwQ6",
    "colab_type": "code",
    "colab": {},
    "is_executing": true
   },
   "source": [
    "def gen_cord(result):\n",
    "  cord_df = pd.DataFrame(result['boundingPoly']['vertices'])\n",
    "  x_min, y_min = np.min(cord_df[\"x\"]), np.min(cord_df[\"y\"])\n",
    "  x_max, y_max = np.max(cord_df[\"x\"]), np.max(cord_df[\"y\"])\n",
    "  return result[\"description\"], x_max, x_min, y_max, y_min"
   ],
   "execution_count": null,
   "outputs": []
  },
  {
   "cell_type": "code",
   "metadata": {
    "id": "Q4LYtrQffm77",
    "colab_type": "code",
    "colab": {},
    "is_executing": true
   },
   "source": [
    "text, x_max, x_min, y_max, y_min = gen_cord(result[-1])\n",
    "image = cv2.imread(img_loc)\n",
    "cv2.rectangle(image,(x_min,y_min),(x_max,y_max),(0,255, 0),2)\n",
    "plt.imshow(cv2.cvtColor(image, cv2.COLOR_BGR2RGB))\n",
    "print (\"Text Detected = {}\".format(text))"
   ],
   "execution_count": null,
   "outputs": []
  },
  {
   "cell_type": "code",
   "metadata": {
    "id": "f3NoY3tCjDdZ",
    "colab_type": "code",
    "colab": {},
    "is_executing": true
   },
   "source": [],
   "execution_count": null,
   "outputs": []
  }
 ]
}
